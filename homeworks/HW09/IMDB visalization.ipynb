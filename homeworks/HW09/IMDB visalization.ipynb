{
 "cells": [
  {
   "cell_type": "markdown",
   "id": "474935e7",
   "metadata": {},
   "source": [
    "# SQL HW09 - Problem 1 (a)\n",
    "## Amir ElTabakh\n",
    "\n",
    "In this notebook I connect to my postgreSQL imdb database, and create a histogram of the `averageRating` column in the `xf_title_ratings` table.\n",
    "\n",
    "This is an alternative to Power BI."
   ]
  },
  {
   "cell_type": "code",
   "execution_count": 1,
   "id": "01f29617",
   "metadata": {},
   "outputs": [
    {
     "name": "stdout",
     "output_type": "stream",
     "text": [
      "Requirement already satisfied: psycopg2 in c:\\users\\amira\\anaconda3\\lib\\site-packages (2.9.3)\n"
     ]
    }
   ],
   "source": [
    "# install psycopg2 in case don't have the library.\n",
    "# Pandas and Seaborn are also used later in the notebook.\n",
    "!pip install psycopg2"
   ]
  },
  {
   "cell_type": "code",
   "execution_count": 2,
   "id": "11581530",
   "metadata": {},
   "outputs": [
    {
     "name": "stderr",
     "output_type": "stream",
     "text": [
      "IOPub data rate exceeded.\n",
      "The notebook server will temporarily stop sending output\n",
      "to the client in order to avoid crashing it.\n",
      "To change this limit, set the config variable\n",
      "`--NotebookApp.iopub_data_rate_limit`.\n",
      "\n",
      "Current values:\n",
      "NotebookApp.iopub_data_rate_limit=1000000.0 (bytes/sec)\n",
      "NotebookApp.rate_limit_window=3.0 (secs)\n",
      "\n"
     ]
    }
   ],
   "source": [
    "import psycopg2\n",
    "\n",
    "conn = psycopg2.connect(\n",
    "    host=\"localhost\",\n",
    "    database=\"imdb\",\n",
    "    user=\"\",\n",
    "    password=\"\")\n",
    "\n",
    "#Creating a cursor object using the cursor() method\n",
    "cursor = conn.cursor()\n",
    "\n",
    "#Executing an MYSQL function using the execute() method\n",
    "cursor.execute(\"select version()\")\n",
    "\n",
    "#Setting auto commit false\n",
    "#conn.autocommit = True\n",
    "\n",
    "#Creating a cursor object using the cursor() method\n",
    "cursor = conn.cursor()\n",
    "\n",
    "#Retrieving data\n",
    "cursor.execute('''select * from imdb.public.xf_title_basic''')\n",
    "\n",
    "\n",
    "#Fetching all rows from the table\n",
    "xf_title_basic = cursor.fetchall();\n",
    "print(xf_title_basic)\n",
    "\n",
    "#Commit your changes in the database\n",
    "conn.commit()"
   ]
  },
  {
   "cell_type": "code",
   "execution_count": 3,
   "id": "96aaaadb",
   "metadata": {},
   "outputs": [
    {
     "data": {
      "text/plain": [
       "('tt0000843',\n",
       " 'short',\n",
       " 'The Death Disc: A Story of the Cromwellian Period',\n",
       " 'The Death Disc: A Story of the Cromwellian Period',\n",
       " False,\n",
       " 1909,\n",
       " None,\n",
       " 11,\n",
       " ['Drama', 'Short'])"
      ]
     },
     "execution_count": 3,
     "metadata": {},
     "output_type": "execute_result"
    }
   ],
   "source": [
    "xf_title_basic[0]"
   ]
  },
  {
   "cell_type": "code",
   "execution_count": 4,
   "id": "bf35f878",
   "metadata": {},
   "outputs": [
    {
     "data": {
      "text/html": [
       "<div>\n",
       "<style scoped>\n",
       "    .dataframe tbody tr th:only-of-type {\n",
       "        vertical-align: middle;\n",
       "    }\n",
       "\n",
       "    .dataframe tbody tr th {\n",
       "        vertical-align: top;\n",
       "    }\n",
       "\n",
       "    .dataframe thead th {\n",
       "        text-align: right;\n",
       "    }\n",
       "</style>\n",
       "<table border=\"1\" class=\"dataframe\">\n",
       "  <thead>\n",
       "    <tr style=\"text-align: right;\">\n",
       "      <th></th>\n",
       "      <th>tconst</th>\n",
       "      <th>titleType</th>\n",
       "      <th>primaryTitle</th>\n",
       "      <th>originalTitle</th>\n",
       "      <th>isAdult</th>\n",
       "      <th>startYear</th>\n",
       "      <th>endYear</th>\n",
       "      <th>runtimesMinutes</th>\n",
       "      <th>genres</th>\n",
       "    </tr>\n",
       "  </thead>\n",
       "  <tbody>\n",
       "    <tr>\n",
       "      <th>0</th>\n",
       "      <td>tt0000843</td>\n",
       "      <td>short</td>\n",
       "      <td>The Death Disc: A Story of the Cromwellian Period</td>\n",
       "      <td>The Death Disc: A Story of the Cromwellian Period</td>\n",
       "      <td>False</td>\n",
       "      <td>1909.0</td>\n",
       "      <td>NaN</td>\n",
       "      <td>11.0</td>\n",
       "      <td>[Drama, Short]</td>\n",
       "    </tr>\n",
       "    <tr>\n",
       "      <th>1</th>\n",
       "      <td>tt0000844</td>\n",
       "      <td>short</td>\n",
       "      <td>The Death of Ivan the Terrible</td>\n",
       "      <td>Smert Ioanna Groznogo</td>\n",
       "      <td>False</td>\n",
       "      <td>1909.0</td>\n",
       "      <td>NaN</td>\n",
       "      <td>NaN</td>\n",
       "      <td>[Drama, History, Short]</td>\n",
       "    </tr>\n",
       "    <tr>\n",
       "      <th>2</th>\n",
       "      <td>tt0000845</td>\n",
       "      <td>short</td>\n",
       "      <td>The Deception</td>\n",
       "      <td>The Deception</td>\n",
       "      <td>False</td>\n",
       "      <td>1909.0</td>\n",
       "      <td>NaN</td>\n",
       "      <td>7.0</td>\n",
       "      <td>[Drama, Short]</td>\n",
       "    </tr>\n",
       "    <tr>\n",
       "      <th>3</th>\n",
       "      <td>tt0000846</td>\n",
       "      <td>movie</td>\n",
       "      <td>Un día en Xochimilco</td>\n",
       "      <td>Un día en Xochimilco</td>\n",
       "      <td>False</td>\n",
       "      <td>1909.0</td>\n",
       "      <td>NaN</td>\n",
       "      <td>NaN</td>\n",
       "      <td>None</td>\n",
       "    </tr>\n",
       "    <tr>\n",
       "      <th>4</th>\n",
       "      <td>tt0000847</td>\n",
       "      <td>short</td>\n",
       "      <td>Don Juan heiratet</td>\n",
       "      <td>Don Juan heiratet</td>\n",
       "      <td>False</td>\n",
       "      <td>1909.0</td>\n",
       "      <td>NaN</td>\n",
       "      <td>10.0</td>\n",
       "      <td>[Short]</td>\n",
       "    </tr>\n",
       "    <tr>\n",
       "      <th>...</th>\n",
       "      <td>...</td>\n",
       "      <td>...</td>\n",
       "      <td>...</td>\n",
       "      <td>...</td>\n",
       "      <td>...</td>\n",
       "      <td>...</td>\n",
       "      <td>...</td>\n",
       "      <td>...</td>\n",
       "      <td>...</td>\n",
       "    </tr>\n",
       "    <tr>\n",
       "      <th>8783373</th>\n",
       "      <td>tt0000838</td>\n",
       "      <td>movie</td>\n",
       "      <td>A Cultura do Cacau</td>\n",
       "      <td>A Cultura do Cacau</td>\n",
       "      <td>False</td>\n",
       "      <td>1909.0</td>\n",
       "      <td>NaN</td>\n",
       "      <td>NaN</td>\n",
       "      <td>None</td>\n",
       "    </tr>\n",
       "    <tr>\n",
       "      <th>8783374</th>\n",
       "      <td>tt0000839</td>\n",
       "      <td>short</td>\n",
       "      <td>The Curse of Money</td>\n",
       "      <td>The Curse of Money</td>\n",
       "      <td>False</td>\n",
       "      <td>1909.0</td>\n",
       "      <td>NaN</td>\n",
       "      <td>NaN</td>\n",
       "      <td>[Drama, Short]</td>\n",
       "    </tr>\n",
       "    <tr>\n",
       "      <th>8783375</th>\n",
       "      <td>tt0000840</td>\n",
       "      <td>short</td>\n",
       "      <td>The Curtain Pole</td>\n",
       "      <td>The Curtain Pole</td>\n",
       "      <td>False</td>\n",
       "      <td>1909.0</td>\n",
       "      <td>NaN</td>\n",
       "      <td>13.0</td>\n",
       "      <td>[Comedy, Short]</td>\n",
       "    </tr>\n",
       "    <tr>\n",
       "      <th>8783376</th>\n",
       "      <td>tt0000841</td>\n",
       "      <td>short</td>\n",
       "      <td>The Day After</td>\n",
       "      <td>The Day After</td>\n",
       "      <td>False</td>\n",
       "      <td>1909.0</td>\n",
       "      <td>NaN</td>\n",
       "      <td>8.0</td>\n",
       "      <td>[Comedy, Short]</td>\n",
       "    </tr>\n",
       "    <tr>\n",
       "      <th>8783377</th>\n",
       "      <td>tt0000842</td>\n",
       "      <td>movie</td>\n",
       "      <td>De Garraf a Barcelona</td>\n",
       "      <td>De Garraf a Barcelona</td>\n",
       "      <td>False</td>\n",
       "      <td>1909.0</td>\n",
       "      <td>NaN</td>\n",
       "      <td>NaN</td>\n",
       "      <td>None</td>\n",
       "    </tr>\n",
       "  </tbody>\n",
       "</table>\n",
       "<p>8783378 rows × 9 columns</p>\n",
       "</div>"
      ],
      "text/plain": [
       "            tconst titleType  \\\n",
       "0        tt0000843     short   \n",
       "1        tt0000844     short   \n",
       "2        tt0000845     short   \n",
       "3        tt0000846     movie   \n",
       "4        tt0000847     short   \n",
       "...            ...       ...   \n",
       "8783373  tt0000838     movie   \n",
       "8783374  tt0000839     short   \n",
       "8783375  tt0000840     short   \n",
       "8783376  tt0000841     short   \n",
       "8783377  tt0000842     movie   \n",
       "\n",
       "                                              primaryTitle  \\\n",
       "0        The Death Disc: A Story of the Cromwellian Period   \n",
       "1                           The Death of Ivan the Terrible   \n",
       "2                                            The Deception   \n",
       "3                                     Un día en Xochimilco   \n",
       "4                                        Don Juan heiratet   \n",
       "...                                                    ...   \n",
       "8783373                                 A Cultura do Cacau   \n",
       "8783374                                 The Curse of Money   \n",
       "8783375                                   The Curtain Pole   \n",
       "8783376                                      The Day After   \n",
       "8783377                              De Garraf a Barcelona   \n",
       "\n",
       "                                             originalTitle  isAdult  \\\n",
       "0        The Death Disc: A Story of the Cromwellian Period    False   \n",
       "1                                    Smert Ioanna Groznogo    False   \n",
       "2                                            The Deception    False   \n",
       "3                                     Un día en Xochimilco    False   \n",
       "4                                        Don Juan heiratet    False   \n",
       "...                                                    ...      ...   \n",
       "8783373                                 A Cultura do Cacau    False   \n",
       "8783374                                 The Curse of Money    False   \n",
       "8783375                                   The Curtain Pole    False   \n",
       "8783376                                      The Day After    False   \n",
       "8783377                              De Garraf a Barcelona    False   \n",
       "\n",
       "         startYear  endYear  runtimesMinutes                   genres  \n",
       "0           1909.0      NaN             11.0           [Drama, Short]  \n",
       "1           1909.0      NaN              NaN  [Drama, History, Short]  \n",
       "2           1909.0      NaN              7.0           [Drama, Short]  \n",
       "3           1909.0      NaN              NaN                     None  \n",
       "4           1909.0      NaN             10.0                  [Short]  \n",
       "...            ...      ...              ...                      ...  \n",
       "8783373     1909.0      NaN              NaN                     None  \n",
       "8783374     1909.0      NaN              NaN           [Drama, Short]  \n",
       "8783375     1909.0      NaN             13.0          [Comedy, Short]  \n",
       "8783376     1909.0      NaN              8.0          [Comedy, Short]  \n",
       "8783377     1909.0      NaN              NaN                     None  \n",
       "\n",
       "[8783378 rows x 9 columns]"
      ]
     },
     "execution_count": 4,
     "metadata": {},
     "output_type": "execute_result"
    }
   ],
   "source": [
    "# convert list of tuples to a dataframe\n",
    "import pandas as pd\n",
    "\n",
    "df = pd.DataFrame(list(xf_title_basic), columns = ['tconst',\n",
    "                                                     'titleType',\n",
    "                                                     'primaryTitle',\n",
    "                                                     'originalTitle',\n",
    "                                                     \"isAdult\",\n",
    "                                                     \"startYear\",\n",
    "                                                     \"endYear\",\n",
    "                                                     \"runtimesMinutes\",\n",
    "                                                     'genres'])\n",
    "\n",
    "df"
   ]
  },
  {
   "cell_type": "markdown",
   "id": "97a9f02a",
   "metadata": {},
   "source": [
    "Now we repeat this process, but for `xf_title_ratings` and then we'll use seaborn to generate a histogram of the `averageRating` column."
   ]
  },
  {
   "cell_type": "code",
   "execution_count": 5,
   "id": "f5f11a88",
   "metadata": {},
   "outputs": [
    {
     "data": {
      "text/html": [
       "<div>\n",
       "<style scoped>\n",
       "    .dataframe tbody tr th:only-of-type {\n",
       "        vertical-align: middle;\n",
       "    }\n",
       "\n",
       "    .dataframe tbody tr th {\n",
       "        vertical-align: top;\n",
       "    }\n",
       "\n",
       "    .dataframe thead th {\n",
       "        text-align: right;\n",
       "    }\n",
       "</style>\n",
       "<table border=\"1\" class=\"dataframe\">\n",
       "  <thead>\n",
       "    <tr style=\"text-align: right;\">\n",
       "      <th></th>\n",
       "      <th>tconst</th>\n",
       "      <th>averageRating</th>\n",
       "      <th>numVotes</th>\n",
       "    </tr>\n",
       "  </thead>\n",
       "  <tbody>\n",
       "    <tr>\n",
       "      <th>0</th>\n",
       "      <td>tt0264273</td>\n",
       "      <td>7.8</td>\n",
       "      <td>50</td>\n",
       "    </tr>\n",
       "    <tr>\n",
       "      <th>1</th>\n",
       "      <td>tt0264275</td>\n",
       "      <td>8.2</td>\n",
       "      <td>132</td>\n",
       "    </tr>\n",
       "    <tr>\n",
       "      <th>2</th>\n",
       "      <td>tt0264279</td>\n",
       "      <td>3.5</td>\n",
       "      <td>43</td>\n",
       "    </tr>\n",
       "    <tr>\n",
       "      <th>3</th>\n",
       "      <td>tt0264280</td>\n",
       "      <td>6.1</td>\n",
       "      <td>9</td>\n",
       "    </tr>\n",
       "    <tr>\n",
       "      <th>4</th>\n",
       "      <td>tt0264281</td>\n",
       "      <td>6.8</td>\n",
       "      <td>47</td>\n",
       "    </tr>\n",
       "    <tr>\n",
       "      <th>...</th>\n",
       "      <td>...</td>\n",
       "      <td>...</td>\n",
       "      <td>...</td>\n",
       "    </tr>\n",
       "    <tr>\n",
       "      <th>1226091</th>\n",
       "      <td>tt0264268</td>\n",
       "      <td>7.6</td>\n",
       "      <td>39</td>\n",
       "    </tr>\n",
       "    <tr>\n",
       "      <th>1226092</th>\n",
       "      <td>tt0264269</td>\n",
       "      <td>6.7</td>\n",
       "      <td>60</td>\n",
       "    </tr>\n",
       "    <tr>\n",
       "      <th>1226093</th>\n",
       "      <td>tt0264270</td>\n",
       "      <td>6.3</td>\n",
       "      <td>188</td>\n",
       "    </tr>\n",
       "    <tr>\n",
       "      <th>1226094</th>\n",
       "      <td>tt0264271</td>\n",
       "      <td>7.7</td>\n",
       "      <td>11</td>\n",
       "    </tr>\n",
       "    <tr>\n",
       "      <th>1226095</th>\n",
       "      <td>tt0264272</td>\n",
       "      <td>8.3</td>\n",
       "      <td>19</td>\n",
       "    </tr>\n",
       "  </tbody>\n",
       "</table>\n",
       "<p>1226096 rows × 3 columns</p>\n",
       "</div>"
      ],
      "text/plain": [
       "            tconst averageRating  numVotes\n",
       "0        tt0264273           7.8        50\n",
       "1        tt0264275           8.2       132\n",
       "2        tt0264279           3.5        43\n",
       "3        tt0264280           6.1         9\n",
       "4        tt0264281           6.8        47\n",
       "...            ...           ...       ...\n",
       "1226091  tt0264268           7.6        39\n",
       "1226092  tt0264269           6.7        60\n",
       "1226093  tt0264270           6.3       188\n",
       "1226094  tt0264271           7.7        11\n",
       "1226095  tt0264272           8.3        19\n",
       "\n",
       "[1226096 rows x 3 columns]"
      ]
     },
     "execution_count": 5,
     "metadata": {},
     "output_type": "execute_result"
    }
   ],
   "source": [
    "import psycopg2\n",
    "\n",
    "conn = psycopg2.connect(\n",
    "    host=\"localhost\",\n",
    "    database=\"imdb\",\n",
    "    user=\"\",\n",
    "    password=\"\")\n",
    "\n",
    "#Creating a cursor object using the cursor() method\n",
    "cursor = conn.cursor()\n",
    "\n",
    "#Executing an MYSQL function using the execute() method\n",
    "cursor.execute(\"select version()\")\n",
    "\n",
    "#Setting auto commit false\n",
    "#conn.autocommit = True\n",
    "\n",
    "#Creating a cursor object using the cursor() method\n",
    "cursor = conn.cursor()\n",
    "\n",
    "#Retrieving data\n",
    "cursor.execute('''select * from imdb.public.xf_title_ratings''')\n",
    "\n",
    "#Fetching all rows from the table\n",
    "xf_title_ratings = cursor.fetchall();\n",
    "\n",
    "#Commit your changes in the database\n",
    "conn.commit()\n",
    "\n",
    "xf_title_ratings = pd.DataFrame(list(xf_title_ratings), columns = ['tconst',\n",
    "                                                     'averageRating',\n",
    "                                                     'numVotes'])\n",
    "\n",
    "xf_title_ratings"
   ]
  },
  {
   "cell_type": "code",
   "execution_count": 6,
   "id": "db8840e0",
   "metadata": {},
   "outputs": [
    {
     "data": {
      "text/plain": [
       "[Text(0.5, 1.0, 'Distribution of `xf_title_ratings.\"averageRating\"`')]"
      ]
     },
     "execution_count": 6,
     "metadata": {},
     "output_type": "execute_result"
    },
    {
     "data": {
      "image/png": "[encoded data removed]",
      "text/plain": [
       "<Figure size 432x288 with 1 Axes>"
      ]
     },
     "metadata": {
      "needs_background": "light"
     },
     "output_type": "display_data"
    }
   ],
   "source": [
    "import seaborn as sns\n",
    "\n",
    "sns.histplot(xf_title_ratings['averageRating']).set(title='Distribution of `xf_title_ratings.\"averageRating\"`')"
   ]
  },
  {
   "cell_type": "markdown",
   "id": "9ad1593e",
   "metadata": {},
   "source": [
    "And to calculate the relative frequency distribution:"
   ]
  },
  {
   "cell_type": "code",
   "execution_count": 7,
   "id": "4297b346",
   "metadata": {},
   "outputs": [
    {
     "name": "stderr",
     "output_type": "stream",
     "text": [
      "C:\\Users\\amira\\anaconda3\\lib\\site-packages\\seaborn\\distributions.py:2619: FutureWarning: `distplot` is a deprecated function and will be removed in a future version. Please adapt your code to use either `displot` (a figure-level function with similar flexibility) or `histplot` (an axes-level function for histograms).\n",
      "  warnings.warn(msg, FutureWarning)\n"
     ]
    },
    {
     "data": {
      "text/plain": [
       "[Text(0.5, 1.0, 'Relative Distribution of `xf_title_ratings.\"averageRating\"`')]"
      ]
     },
     "execution_count": 7,
     "metadata": {},
     "output_type": "execute_result"
    },
    {
     "data": {
      "image/png": "[encoded data removed]",
      "text/plain": [
       "<Figure size 432x288 with 1 Axes>"
      ]
     },
     "metadata": {
      "needs_background": "light"
     },
     "output_type": "display_data"
    }
   ],
   "source": [
    "sns.distplot(xf_title_ratings['averageRating'], kde=False, norm_hist=True,\n",
    "            color = 'red').set(title='Relative Distribution of `xf_title_ratings.\"averageRating\"`')"
   ]
  },
  {
   "cell_type": "code",
   "execution_count": 8,
   "id": "3db6a9c6",
   "metadata": {},
   "outputs": [
    {
     "name": "stderr",
     "output_type": "stream",
     "text": [
      "C:\\Users\\amira\\anaconda3\\lib\\site-packages\\scipy\\stats\\morestats.py:1760: UserWarning: p-value may not be accurate for N > 5000.\n",
      "  warnings.warn(\"p-value may not be accurate for N > 5000.\")\n"
     ]
    },
    {
     "data": {
      "text/plain": [
       "ShapiroResult(statistic=0.9669944643974304, pvalue=0.0)"
      ]
     },
     "execution_count": 8,
     "metadata": {},
     "output_type": "execute_result"
    }
   ],
   "source": [
    "from scipy.stats import shapiro\n",
    "\n",
    "shapiro(xf_title_ratings['averageRating'])"
   ]
  },
  {
   "cell_type": "markdown",
   "id": "c8edf5f6",
   "metadata": {},
   "source": [
    "H_0: (Fail to Reject): Sample is from the normal distributions. (P_value > 0.05)\\\n",
    "H_a: (Reject): Sample is not from the normal distributions. (P_value < 0.05)\n",
    "\n",
    "\n",
    "Since in the above example, the p-value is 0.0 which is less than the threshold(0.5) which is the alpha 5%, we then reject the null hypothesis i.e. we do not have sufficient evidence to say that sample does not come from a normal distribution."
   ]
  }
 ],
 "metadata": {
  "kernelspec": {
   "display_name": "Python 3 (ipykernel)",
   "language": "python",
   "name": "python3"
  },
  "language_info": {
   "codemirror_mode": {
    "name": "ipython",
    "version": 3
   },
   "file_extension": ".py",
   "mimetype": "text/x-python",
   "name": "python",
   "nbconvert_exporter": "python",
   "pygments_lexer": "ipython3",
   "version": "3.9.7"
  }
 },
 "nbformat": 4,
 "nbformat_minor": 5
}
